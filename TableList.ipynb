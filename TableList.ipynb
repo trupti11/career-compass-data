{
 "cells": [
  {
   "cell_type": "code",
   "execution_count": null,
   "id": "5010f612",
   "metadata": {},
   "outputs": [],
   "source": [
    "import boto3\n",
    "\n",
    "# ---- CONFIG ----\n",
    "AWS_ACCESS_KEY_ID = \"YOUR_AWS_ACCESS_KEY_ID\"\n",
    "AWS_SECRET_ACCESS_KEY = \"YOUR_AWS_SECRET_ACCESS_KEY\"\n",
    "REGION = \"us-west-2\"  # Change as needed\n",
    "STACK_IDENTIFIER = \"trupti-sandbox-51db922282\"  # Put your stack/environment substring here\n",
    "# ----------------\n",
    "\n",
    "# Create a session (you can also use environment variables or AWS profile)\n",
    "session = boto3.Session(\n",
    "    aws_access_key_id=AWS_ACCESS_KEY_ID,\n",
    "    aws_secret_access_key=AWS_SECRET_ACCESS_KEY,\n",
    "    region_name=REGION\n",
    ")\n",
    "\n",
    "dynamodb = session.client('dynamodb')\n",
    "\n",
    "# List all tables and filter by stack/env if needed\n",
    "def list_tables(filter_str=None):\n",
    "    paginator = dynamodb.get_paginator('list_tables')\n",
    "    print(f\"🔍 Fetching DynamoDB tables in region: {REGION} ...\")\n",
    "    found = []\n",
    "    for page in paginator.paginate():\n",
    "        for table in page['TableNames']:\n",
    "            if (not filter_str) or (filter_str in table):\n",
    "                found.append(table)\n",
    "    return found\n",
    "\n",
    "if __name__ == \"__main__\":\n",
    "    # Find all tables that contain your stack/env substring\n",
    "    matching_tables = list_tables(STACK_IDENTIFIER)\n",
    "    if not matching_tables:\n",
    "        print(f\"❌ No tables found with: {STACK_IDENTIFIER}\")\n",
    "    else:\n",
    "        print(\"✅ Tables found:\")\n",
    "        for t in matching_tables:\n",
    "            print(f\"   - {t}\")\n",
    "\n",
    "        # Optionally, show more info about each table\n",
    "        print(\"\\nDetailed Table Info:\")\n",
    "        for t in matching_tables:\n",
    "            desc = dynamodb.describe_table(TableName=t)['Table']\n",
    "            print(f\"Table: {t}\")\n",
    "            print(f\"  - ARN: {desc['TableArn']}\")\n",
    "            print(f\"  - Created: {desc['CreationDateTime']}\")\n",
    "            print(f\"  - Item count: {desc.get('ItemCount', 'N/A')}\")\n",
    "            print(f\"  - Status: {desc['TableStatus']}\")\n",
    "            print()\n"
   ]
  }
 ],
 "metadata": {
  "language_info": {
   "name": "python"
  }
 },
 "nbformat": 4,
 "nbformat_minor": 5
}
